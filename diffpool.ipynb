{
 "cells": [
  {
   "cell_type": "markdown",
   "metadata": {
    "pycharm": {
     "name": "#%% md\n"
    }
   },
   "source": [
    "# Hierarchical Graph Representation Learning with Differentiable Pooling\n",
    "\n",
    "<img src=\"static/diffpool.png\" alt=\"Diffpool\" width=\"800\" />\n",
    "\n",
    "Links to the original paper:\n",
    "* ArXiv: <https://arxiv.org/abs/1806.08804>\n",
    "* Code Repository: <https://github.com/RexYing/diffpool>"
   ]
  },
  {
   "cell_type": "markdown",
   "metadata": {
    "pycharm": {
     "name": "#%% md\n"
    }
   },
   "source": [
    "## Toy Example: 1-Layer Diffpool\n",
    "\n",
    "In the following cells the mathematical formulas of Difffpool are explained with a small example.\n",
    "\n",
    "Consider a small graph with 5 nodes, 5 edges and each node has two features. In this example we use a one layer Diffpool model to reduce this graph to 2 clusters with new aggregated embeddings. As GNNs we use GraphSAGE for both the embedding and pooling models."
   ]
  },
  {
   "cell_type": "code",
   "execution_count": 1,
   "metadata": {
    "pycharm": {
     "name": "#%%\n"
    }
   },
   "outputs": [
    {
     "data": {
      "image/png": "[encoded data removed]",
      "text/plain": [
       "<Figure size 432x288 with 1 Axes>"
      ]
     },
     "metadata": {},
     "output_type": "display_data"
    }
   ],
   "source": [
    "import torch as th\n",
    "import torch.nn as nn\n",
    "import matplotlib.pyplot as plt\n",
    "import networkx as nx\n",
    "import dgl\n",
    "\n",
    "from dgl_layers.model import DiffPool\n",
    "\n",
    "nx_G = nx.Graph()\n",
    "nx_G.add_edges_from([(1, 2), (2, 3), (3, 4), (3, 5), (4, 5)])\n",
    "\n",
    "g = dgl.from_networkx(nx_G)\n",
    "X = th.randn(5, 2)\n",
    "\n",
    "nx.draw(dgl.to_networkx(g))\n",
    "plt.show()"
   ]
  },
  {
   "cell_type": "markdown",
   "metadata": {
    "pycharm": {
     "name": "#%% md\n"
    }
   },
   "source": [
    "### Compute cluster assignments & node embeddings\n",
    "\n",
    "The first step is to compute the cluster assignments and associated embeddings of the aggregated nodes. We simply apply the formulas provided in the paper:\n",
    "\n",
    "\\begin{align*}\n",
    "Z = \\mathrm{GNN}_{\\mathrm{embed}}(A, X) \\\\\n",
    "S = \\mathrm{softmax}(\\mathrm{GNN}_{\\mathrm{pool}}(A, X))\n",
    "\\end{align*}"
   ]
  },
  {
   "cell_type": "code",
   "execution_count": 2,
   "metadata": {
    "pycharm": {
     "name": "#%%\n"
    }
   },
   "outputs": [
    {
     "data": {
      "text/plain": [
       "(tensor([[-1.5802,  1.5725],\n",
       "         [-0.7592,  0.7675],\n",
       "         [ 0.5197, -0.5063],\n",
       "         [ 0.9098, -0.9169],\n",
       "         [ 0.9098, -0.9169]], grad_fn=<NativeBatchNormBackward0>),\n",
       " tensor([[0.5084, 0.4916],\n",
       "         [0.4933, 0.5067],\n",
       "         [0.4874, 0.5126],\n",
       "         [0.5055, 0.4945],\n",
       "         [0.5055, 0.4945]], grad_fn=<SoftmaxBackward0>))"
      ]
     },
     "execution_count": 2,
     "metadata": {},
     "output_type": "execute_result"
    }
   ],
   "source": [
    "from dgl.nn.pytorch import DenseSAGEConv\n",
    "from torch.nn.functional import softmax\n",
    "\n",
    "embed = DenseSAGEConv(2, 2, norm=nn.BatchNorm1d(2))\n",
    "pool = DenseSAGEConv(2, 2, norm=nn.BatchNorm1d(2))\n",
    "\n",
    "A = g.adj().to_dense()\n",
    "Z = embed(A, X)\n",
    "S = softmax(pool(A, X), dim=-1)\n",
    "\n",
    "Z, S"
   ]
  },
  {
   "cell_type": "markdown",
   "metadata": {
    "pycharm": {
     "name": "#%% md\n"
    }
   },
   "source": [
    "### Construct the new representation graph\n",
    "\n",
    "In the second step we now have to construct the new graph. To do so, we first calculate the embeddings $X'$ for each cluster and then the new adjacency matrix $A'$ that connects the clusters.\n",
    "\n",
    "Again, we simply use the formulas from the paper in our example:\n",
    "\n",
    "\\begin{align*}\n",
    "X' = S^T Z \\\\\n",
    "A' = S^T A S\n",
    "\\end{align*}"
   ]
  },
  {
   "cell_type": "code",
   "execution_count": 3,
   "metadata": {
    "pycharm": {
     "name": "#%%\n"
    }
   },
   "outputs": [
    {
     "data": {
      "text/plain": [
       "(tensor([[-0.0048,  0.0044],\n",
       "         [ 0.0048, -0.0044]], grad_fn=<MmBackward0>),\n",
       " tensor([[2.4788, 2.5002],\n",
       "         [2.5002, 2.5209]], grad_fn=<MmBackward0>))"
      ]
     },
     "execution_count": 3,
     "metadata": {},
     "output_type": "execute_result"
    }
   ],
   "source": [
    "X_new = S.transpose(-1, -2) @ Z\n",
    "A_new = S.transpose(-1, -2) @ A @ S\n",
    "\n",
    "X_new, A_new"
   ]
  },
  {
   "cell_type": "markdown",
   "metadata": {
    "pycharm": {
     "name": "#%% md\n"
    }
   },
   "source": [
    "Finally, we can take a look at the new graph. As already announced, we now have only two nodes that are connected by weighted edges and contain the embeddings from the nodes combined in them representatively in their new embeddings."
   ]
  },
  {
   "cell_type": "code",
   "execution_count": 4,
   "metadata": {
    "pycharm": {
     "name": "#%%\n"
    }
   },
   "outputs": [
    {
     "data": {
      "image/png": "[encoded data removed]",
      "text/plain": [
       "<Figure size 432x288 with 1 Axes>"
      ]
     },
     "metadata": {},
     "output_type": "display_data"
    }
   ],
   "source": [
    "g_new = nx.from_numpy_matrix(A_new.detach().numpy(), create_using=nx.Graph)\n",
    "g_new.remove_edges_from(nx.selfloop_edges(g_new))\n",
    "nx.draw(g_new)\n",
    "plt.show()"
   ]
  },
  {
   "cell_type": "markdown",
   "metadata": {
    "pycharm": {
     "name": "#%% md\n"
    }
   },
   "source": [
    "## Diffpool in practice: Graph classification of the ENZYMES datasets"
   ]
  },
  {
   "cell_type": "code",
   "execution_count": 3,
   "metadata": {
    "pycharm": {
     "name": "#%%\n"
    }
   },
   "outputs": [],
   "source": [
    "import dgl\n",
    "import torch.nn.functional as F\n",
    "from dgl.data import tu\n",
    "import torch.utils.data\n",
    "\n",
    "dataset = tu.LegacyTUDataset(name=\"ENZYMES\")\n",
    "train_size = int(0.7 * len(dataset))\n",
    "test_size = int(0.1 * len(dataset))\n",
    "val_size = int(len(dataset) - train_size - test_size)\n",
    "\n",
    "batch_size = 20\n",
    "\n",
    "dataset_train, dataset_val, dataset_test = torch.utils.data.random_split(\n",
    "    dataset, (train_size, val_size, test_size))\n",
    "train_dataloader = dgl.dataloading.GraphDataLoader(dataset_train, batch_size=batch_size)\n",
    "val_dataloader = dgl.dataloading.GraphDataLoader(dataset_val, batch_size=batch_size)\n",
    "test_dataloader = dgl.dataloading.GraphDataLoader(dataset_test, batch_size=batch_size)\n",
    "\n",
    "input_dim, label_dim, max_num_node = dataset.statistics()"
   ]
  },
  {
   "cell_type": "code",
   "execution_count": 4,
   "metadata": {
    "pycharm": {
     "name": "#%%\n"
    }
   },
   "outputs": [],
   "source": [
    "hidden_dim = 64\n",
    "embedding_dim = 64\n",
    "pool_ratio = 0.25\n",
    "\n",
    "assign_dim = int(max_num_node * pool_ratio)\n",
    "activation = F.relu"
   ]
  },
  {
   "cell_type": "code",
   "execution_count": 7,
   "metadata": {
    "pycharm": {
     "name": "#%%\n"
    }
   },
   "outputs": [],
   "source": [
    "from dgl_layers.model import DiffPool\n",
    "\n",
    "model = DiffPool(input_dim,\n",
    "                 hidden_dim,\n",
    "                 embedding_dim,\n",
    "                 label_dim,\n",
    "                 activation,\n",
    "                 3,\n",
    "                 0.0,\n",
    "                 1,\n",
    "                 True,\n",
    "                 20,\n",
    "                 'mean',\n",
    "                 assign_dim,\n",
    "                 pool_ratio)"
   ]
  },
  {
   "cell_type": "code",
   "execution_count": 9,
   "metadata": {
    "pycharm": {
     "name": "#%%\n"
    }
   },
   "outputs": [],
   "source": [
    "import time\n",
    "\n",
    "def evaluate(dataloader, model):\n",
    "    model.eval()\n",
    "    correct_label = 0\n",
    "    with torch.no_grad():\n",
    "        for batch_idx, (batch_graph, graph_labels) in enumerate(dataloader):\n",
    "            for (key, value) in batch_graph.ndata.items():\n",
    "                batch_graph.ndata[key] = value.float()\n",
    "            graph_labels = graph_labels.long()\n",
    "            if torch.cuda.is_available():\n",
    "                batch_graph = batch_graph.to(torch.cuda.current_device())\n",
    "                graph_labels = graph_labels.cuda()\n",
    "            ypred = model(batch_graph)\n",
    "            indi = torch.argmax(ypred, dim=1)\n",
    "            correct = torch.sum(indi == graph_labels)\n",
    "            correct_label += correct.item()\n",
    "    result = correct_label / (len(dataloader) * 20)\n",
    "    return result\n",
    "\n",
    "def train(dataset, model, val_dataset=None):\n",
    "    dataloader = dataset\n",
    "    optimizer = torch.optim.Adam(filter(lambda p: p.requires_grad,\n",
    "                                        model.parameters()), lr=0.001)\n",
    "    early_stopping_logger = {\"best_epoch\": -1, \"val_acc\": -1}\n",
    "\n",
    "    for epoch in range(4000):\n",
    "        begin_time = time.time()\n",
    "        model.train()\n",
    "        accum_correct = 0\n",
    "        total = 0\n",
    "        print(\"\\nEPOCH ###### {} ######\".format(epoch))\n",
    "        computation_time = 0.0\n",
    "        for (batch_idx, (batch_graph, graph_labels)) in enumerate(dataloader):\n",
    "            for (key, value) in batch_graph.ndata.items():\n",
    "                batch_graph.ndata[key] = value.float()\n",
    "            graph_labels = graph_labels.long()\n",
    "            if torch.cuda.is_available():\n",
    "                batch_graph = batch_graph.to(torch.cuda.current_device())\n",
    "                graph_labels = graph_labels.cuda()\n",
    "\n",
    "            model.zero_grad()\n",
    "            compute_start = time.time()\n",
    "            ypred = model(batch_graph)\n",
    "            indi = torch.argmax(ypred, dim=1)\n",
    "            correct = torch.sum(indi == graph_labels).item()\n",
    "            accum_correct += correct\n",
    "            total += graph_labels.size()[0]\n",
    "            loss = model.loss(ypred, graph_labels)\n",
    "            loss.backward()\n",
    "            batch_compute_time = time.time() - compute_start\n",
    "            computation_time += batch_compute_time\n",
    "            nn.utils.clip_grad_norm_(model.parameters(), 2.0)\n",
    "            optimizer.step()\n",
    "\n",
    "        train_accu = accum_correct / total\n",
    "        print(\"train accuracy for this epoch {} is {:.2f}%\".format(epoch,\n",
    "                                                               train_accu * 100))\n",
    "        elapsed_time = time.time() - begin_time\n",
    "        print(\"loss {:.4f} with epoch time {:.4f} s & computation time {:.4f} s \".format(\n",
    "            loss.item(), elapsed_time, computation_time))\n",
    "        if val_dataset is not None:\n",
    "            result = evaluate(val_dataset, model)\n",
    "            print(\"validation  accuracy {:.2f}%\".format(result * 100))\n",
    "            if early_stopping_logger['val_acc'] <= result <= train_accu:\n",
    "                early_stopping_logger.update(best_epoch=epoch, val_acc=result)\n",
    "            print(\"best epoch is EPOCH {}, val_acc is {:.2f}%\".format(early_stopping_logger['best_epoch'],\n",
    "                                                                  early_stopping_logger['val_acc'] * 100))\n",
    "        torch.cuda.empty_cache()\n",
    "    return early_stopping_logger"
   ]
  },
  {
   "cell_type": "code",
   "execution_count": 10,
   "outputs": [
    {
     "name": "stdout",
     "output_type": "stream",
     "text": [
      "\n",
      "EPOCH ###### 0 ######\n"
     ]
    },
    {
     "ename": "AttributeError",
     "evalue": "'DGLHeteroGraph' object has no attribute 'float'",
     "output_type": "error",
     "traceback": [
      "\u001B[1;31m---------------------------------------------------------------------------\u001B[0m",
      "\u001B[1;31mAttributeError\u001B[0m                            Traceback (most recent call last)",
      "Input \u001B[1;32mIn [10]\u001B[0m, in \u001B[0;36m<cell line: 1>\u001B[1;34m()\u001B[0m\n\u001B[1;32m----> 1\u001B[0m logger \u001B[38;5;241m=\u001B[39m \u001B[43mtrain\u001B[49m\u001B[43m(\u001B[49m\n\u001B[0;32m      2\u001B[0m \u001B[43m        \u001B[49m\u001B[43mtrain_dataloader\u001B[49m\u001B[43m,\u001B[49m\n\u001B[0;32m      3\u001B[0m \u001B[43m        \u001B[49m\u001B[43mmodel\u001B[49m\u001B[43m,\u001B[49m\n\u001B[0;32m      4\u001B[0m \u001B[43m        \u001B[49m\u001B[43mval_dataset\u001B[49m\u001B[38;5;241;43m=\u001B[39;49m\u001B[43mval_dataloader\u001B[49m\u001B[43m)\u001B[49m\n\u001B[0;32m      5\u001B[0m result \u001B[38;5;241m=\u001B[39m evaluate(test_dataloader, model, logger)\n\u001B[0;32m      6\u001B[0m \u001B[38;5;28mprint\u001B[39m(\u001B[38;5;124m\"\u001B[39m\u001B[38;5;124mtest  accuracy \u001B[39m\u001B[38;5;132;01m{:.2f}\u001B[39;00m\u001B[38;5;124m%\u001B[39m\u001B[38;5;124m\"\u001B[39m\u001B[38;5;241m.\u001B[39mformat(result \u001B[38;5;241m*\u001B[39m \u001B[38;5;241m100\u001B[39m))\n",
      "Input \u001B[1;32mIn [9]\u001B[0m, in \u001B[0;36mtrain\u001B[1;34m(dataset, model, val_dataset)\u001B[0m\n\u001B[0;32m     42\u001B[0m model\u001B[38;5;241m.\u001B[39mzero_grad()\n\u001B[0;32m     43\u001B[0m compute_start \u001B[38;5;241m=\u001B[39m time\u001B[38;5;241m.\u001B[39mtime()\n\u001B[1;32m---> 44\u001B[0m ypred \u001B[38;5;241m=\u001B[39m \u001B[43mmodel\u001B[49m\u001B[43m(\u001B[49m\u001B[43mbatch_graph\u001B[49m\u001B[43m)\u001B[49m\n\u001B[0;32m     45\u001B[0m indi \u001B[38;5;241m=\u001B[39m torch\u001B[38;5;241m.\u001B[39margmax(ypred, dim\u001B[38;5;241m=\u001B[39m\u001B[38;5;241m1\u001B[39m)\n\u001B[0;32m     46\u001B[0m correct \u001B[38;5;241m=\u001B[39m torch\u001B[38;5;241m.\u001B[39msum(indi \u001B[38;5;241m==\u001B[39m graph_labels)\u001B[38;5;241m.\u001B[39mitem()\n",
      "File \u001B[1;32m~\\AppData\\Local\\pypoetry\\Cache\\virtualenvs\\diffpool-DLle-QNT-py3.9\\lib\\site-packages\\torch\\nn\\modules\\module.py:1110\u001B[0m, in \u001B[0;36mModule._call_impl\u001B[1;34m(self, *input, **kwargs)\u001B[0m\n\u001B[0;32m   1106\u001B[0m \u001B[38;5;66;03m# If we don't have any hooks, we want to skip the rest of the logic in\u001B[39;00m\n\u001B[0;32m   1107\u001B[0m \u001B[38;5;66;03m# this function, and just call forward.\u001B[39;00m\n\u001B[0;32m   1108\u001B[0m \u001B[38;5;28;01mif\u001B[39;00m \u001B[38;5;129;01mnot\u001B[39;00m (\u001B[38;5;28mself\u001B[39m\u001B[38;5;241m.\u001B[39m_backward_hooks \u001B[38;5;129;01mor\u001B[39;00m \u001B[38;5;28mself\u001B[39m\u001B[38;5;241m.\u001B[39m_forward_hooks \u001B[38;5;129;01mor\u001B[39;00m \u001B[38;5;28mself\u001B[39m\u001B[38;5;241m.\u001B[39m_forward_pre_hooks \u001B[38;5;129;01mor\u001B[39;00m _global_backward_hooks\n\u001B[0;32m   1109\u001B[0m         \u001B[38;5;129;01mor\u001B[39;00m _global_forward_hooks \u001B[38;5;129;01mor\u001B[39;00m _global_forward_pre_hooks):\n\u001B[1;32m-> 1110\u001B[0m     \u001B[38;5;28;01mreturn\u001B[39;00m forward_call(\u001B[38;5;241m*\u001B[39m\u001B[38;5;28minput\u001B[39m, \u001B[38;5;241m*\u001B[39m\u001B[38;5;241m*\u001B[39mkwargs)\n\u001B[0;32m   1111\u001B[0m \u001B[38;5;66;03m# Do not call functions when jit is used\u001B[39;00m\n\u001B[0;32m   1112\u001B[0m full_backward_hooks, non_full_backward_hooks \u001B[38;5;241m=\u001B[39m [], []\n",
      "File \u001B[1;32m~\\Projects\\TUM\\master\\diffpool\\dgl_layers\\model.py:176\u001B[0m, in \u001B[0;36mDiffPool.forward\u001B[1;34m(self, g)\u001B[0m\n\u001B[0;32m    173\u001B[0m     readout \u001B[38;5;241m=\u001B[39m dgl\u001B[38;5;241m.\u001B[39mmax_nodes(g, \u001B[38;5;124m'\u001B[39m\u001B[38;5;124mh\u001B[39m\u001B[38;5;124m'\u001B[39m)\n\u001B[0;32m    174\u001B[0m     out_all\u001B[38;5;241m.\u001B[39mappend(readout)\n\u001B[1;32m--> 176\u001B[0m adj, h \u001B[38;5;241m=\u001B[39m \u001B[38;5;28;43mself\u001B[39;49m\u001B[38;5;241;43m.\u001B[39;49m\u001B[43mfirst_diffpool_layer\u001B[49m\u001B[43m(\u001B[49m\u001B[43mg\u001B[49m\u001B[43m,\u001B[49m\u001B[43m \u001B[49m\u001B[43mg_embedding\u001B[49m\u001B[43m)\u001B[49m\n\u001B[0;32m    177\u001B[0m node_per_pool_graph \u001B[38;5;241m=\u001B[39m \u001B[38;5;28mint\u001B[39m(adj\u001B[38;5;241m.\u001B[39msize()[\u001B[38;5;241m0\u001B[39m] \u001B[38;5;241m/\u001B[39m \u001B[38;5;28mlen\u001B[39m(g\u001B[38;5;241m.\u001B[39mbatch_num_nodes()))\n\u001B[0;32m    179\u001B[0m h, adj \u001B[38;5;241m=\u001B[39m batch2tensor(adj, h, node_per_pool_graph)\n",
      "File \u001B[1;32m~\\AppData\\Local\\pypoetry\\Cache\\virtualenvs\\diffpool-DLle-QNT-py3.9\\lib\\site-packages\\torch\\nn\\modules\\module.py:1110\u001B[0m, in \u001B[0;36mModule._call_impl\u001B[1;34m(self, *input, **kwargs)\u001B[0m\n\u001B[0;32m   1106\u001B[0m \u001B[38;5;66;03m# If we don't have any hooks, we want to skip the rest of the logic in\u001B[39;00m\n\u001B[0;32m   1107\u001B[0m \u001B[38;5;66;03m# this function, and just call forward.\u001B[39;00m\n\u001B[0;32m   1108\u001B[0m \u001B[38;5;28;01mif\u001B[39;00m \u001B[38;5;129;01mnot\u001B[39;00m (\u001B[38;5;28mself\u001B[39m\u001B[38;5;241m.\u001B[39m_backward_hooks \u001B[38;5;129;01mor\u001B[39;00m \u001B[38;5;28mself\u001B[39m\u001B[38;5;241m.\u001B[39m_forward_hooks \u001B[38;5;129;01mor\u001B[39;00m \u001B[38;5;28mself\u001B[39m\u001B[38;5;241m.\u001B[39m_forward_pre_hooks \u001B[38;5;129;01mor\u001B[39;00m _global_backward_hooks\n\u001B[0;32m   1109\u001B[0m         \u001B[38;5;129;01mor\u001B[39;00m _global_forward_hooks \u001B[38;5;129;01mor\u001B[39;00m _global_forward_pre_hooks):\n\u001B[1;32m-> 1110\u001B[0m     \u001B[38;5;28;01mreturn\u001B[39;00m forward_call(\u001B[38;5;241m*\u001B[39m\u001B[38;5;28minput\u001B[39m, \u001B[38;5;241m*\u001B[39m\u001B[38;5;241m*\u001B[39mkwargs)\n\u001B[0;32m   1111\u001B[0m \u001B[38;5;66;03m# Do not call functions when jit is used\u001B[39;00m\n\u001B[0;32m   1112\u001B[0m full_backward_hooks, non_full_backward_hooks \u001B[38;5;241m=\u001B[39m [], []\n",
      "File \u001B[1;32m~\\Projects\\TUM\\master\\diffpool\\dgl_layers\\gnn.py:35\u001B[0m, in \u001B[0;36mDiffPoolBatchedGraphLayer.forward\u001B[1;34m(self, g, h)\u001B[0m\n\u001B[0;32m     34\u001B[0m \u001B[38;5;28;01mdef\u001B[39;00m \u001B[38;5;21mforward\u001B[39m(\u001B[38;5;28mself\u001B[39m, g, h):\n\u001B[1;32m---> 35\u001B[0m     feat \u001B[38;5;241m=\u001B[39m \u001B[38;5;28;43mself\u001B[39;49m\u001B[38;5;241;43m.\u001B[39;49m\u001B[43mfeat_gc\u001B[49m\u001B[43m(\u001B[49m\u001B[43mg\u001B[49m\u001B[43m,\u001B[49m\u001B[43m \u001B[49m\u001B[43mh\u001B[49m\u001B[43m)\u001B[49m  \u001B[38;5;66;03m# size = (sum_N, F_out), sum_N is num of nodes in this batch\u001B[39;00m\n\u001B[0;32m     36\u001B[0m     device \u001B[38;5;241m=\u001B[39m feat\u001B[38;5;241m.\u001B[39mdevice\n\u001B[0;32m     37\u001B[0m     assign_tensor \u001B[38;5;241m=\u001B[39m \u001B[38;5;28mself\u001B[39m\u001B[38;5;241m.\u001B[39mpool_gc(g, h)  \u001B[38;5;66;03m# size = (sum_N, N_a), N_a is num of nodes in pooled graph.\u001B[39;00m\n",
      "File \u001B[1;32m~\\AppData\\Local\\pypoetry\\Cache\\virtualenvs\\diffpool-DLle-QNT-py3.9\\lib\\site-packages\\torch\\nn\\modules\\module.py:1110\u001B[0m, in \u001B[0;36mModule._call_impl\u001B[1;34m(self, *input, **kwargs)\u001B[0m\n\u001B[0;32m   1106\u001B[0m \u001B[38;5;66;03m# If we don't have any hooks, we want to skip the rest of the logic in\u001B[39;00m\n\u001B[0;32m   1107\u001B[0m \u001B[38;5;66;03m# this function, and just call forward.\u001B[39;00m\n\u001B[0;32m   1108\u001B[0m \u001B[38;5;28;01mif\u001B[39;00m \u001B[38;5;129;01mnot\u001B[39;00m (\u001B[38;5;28mself\u001B[39m\u001B[38;5;241m.\u001B[39m_backward_hooks \u001B[38;5;129;01mor\u001B[39;00m \u001B[38;5;28mself\u001B[39m\u001B[38;5;241m.\u001B[39m_forward_hooks \u001B[38;5;129;01mor\u001B[39;00m \u001B[38;5;28mself\u001B[39m\u001B[38;5;241m.\u001B[39m_forward_pre_hooks \u001B[38;5;129;01mor\u001B[39;00m _global_backward_hooks\n\u001B[0;32m   1109\u001B[0m         \u001B[38;5;129;01mor\u001B[39;00m _global_forward_hooks \u001B[38;5;129;01mor\u001B[39;00m _global_forward_pre_hooks):\n\u001B[1;32m-> 1110\u001B[0m     \u001B[38;5;28;01mreturn\u001B[39;00m forward_call(\u001B[38;5;241m*\u001B[39m\u001B[38;5;28minput\u001B[39m, \u001B[38;5;241m*\u001B[39m\u001B[38;5;241m*\u001B[39mkwargs)\n\u001B[0;32m   1111\u001B[0m \u001B[38;5;66;03m# Do not call functions when jit is used\u001B[39;00m\n\u001B[0;32m   1112\u001B[0m full_backward_hooks, non_full_backward_hooks \u001B[38;5;241m=\u001B[39m [], []\n",
      "File \u001B[1;32m~\\AppData\\Local\\pypoetry\\Cache\\virtualenvs\\diffpool-DLle-QNT-py3.9\\lib\\site-packages\\dgl\\nn\\pytorch\\conv\\densesageconv.py:123\u001B[0m, in \u001B[0;36mDenseSAGEConv.forward\u001B[1;34m(self, adj, feat)\u001B[0m\n\u001B[0;32m    121\u001B[0m \u001B[38;5;28;01melse\u001B[39;00m:\n\u001B[0;32m    122\u001B[0m     feat_src \u001B[38;5;241m=\u001B[39m feat_dst \u001B[38;5;241m=\u001B[39m \u001B[38;5;28mself\u001B[39m\u001B[38;5;241m.\u001B[39mfeat_drop(feat)\n\u001B[1;32m--> 123\u001B[0m adj \u001B[38;5;241m=\u001B[39m \u001B[43madj\u001B[49m\u001B[38;5;241;43m.\u001B[39;49m\u001B[43mfloat\u001B[49m()\u001B[38;5;241m.\u001B[39mto(feat_src\u001B[38;5;241m.\u001B[39mdevice)\n\u001B[0;32m    124\u001B[0m in_degrees \u001B[38;5;241m=\u001B[39m adj\u001B[38;5;241m.\u001B[39msum(dim\u001B[38;5;241m=\u001B[39m\u001B[38;5;241m1\u001B[39m, keepdim\u001B[38;5;241m=\u001B[39m\u001B[38;5;28;01mTrue\u001B[39;00m)\n\u001B[0;32m    125\u001B[0m h_neigh \u001B[38;5;241m=\u001B[39m (adj \u001B[38;5;241m@\u001B[39m feat_src \u001B[38;5;241m+\u001B[39m feat_dst) \u001B[38;5;241m/\u001B[39m (in_degrees \u001B[38;5;241m+\u001B[39m \u001B[38;5;241m1\u001B[39m)\n",
      "\u001B[1;31mAttributeError\u001B[0m: 'DGLHeteroGraph' object has no attribute 'float'"
     ]
    }
   ],
   "source": [
    "logger = train(\n",
    "        train_dataloader,\n",
    "        model,\n",
    "        val_dataset=val_dataloader)\n",
    "result = evaluate(test_dataloader, model, logger)\n",
    "print(\"test  accuracy {:.2f}%\".format(result * 100))"
   ],
   "metadata": {
    "collapsed": false,
    "pycharm": {
     "name": "#%%\n"
    }
   }
  },
  {
   "cell_type": "code",
   "execution_count": null,
   "metadata": {
    "pycharm": {
     "name": "#%%\n"
    }
   },
   "outputs": [],
   "source": []
  }
 ],
 "metadata": {
  "kernelspec": {
   "display_name": "Python 3 (ipykernel)",
   "language": "python",
   "name": "python3"
  },
  "language_info": {
   "codemirror_mode": {
    "name": "ipython",
    "version": 3
   },
   "file_extension": ".py",
   "mimetype": "text/x-python",
   "name": "python",
   "nbconvert_exporter": "python",
   "pygments_lexer": "ipython3",
   "version": "3.9.12"
  }
 },
 "nbformat": 4,
 "nbformat_minor": 4
}