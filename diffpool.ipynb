{
 "cells": [
  {
   "cell_type": "markdown",
   "source": [
    "# Hierarchical Graph Representation Learning with Differentiable Pooling\n",
    "\n",
    "Links to the original paper:\n",
    "* ArXiv: <https://arxiv.org/abs/1806.08804>\n",
    "* Code Repository: <https://github.com/RexYing/diffpool>"
   ],
   "metadata": {
    "collapsed": false,
    "pycharm": {
     "name": "#%% md\n"
    }
   }
  },
  {
   "cell_type": "markdown",
   "source": [
    "## Toy Example: 1-Layer Diffpool\n",
    "\n",
    "In the following cells the mathematical formulas of Difffpool are explained with a small example.\n",
    "\n",
    "Consider a small graph with 5 nodes, 5 edges and each node has two features. In this example we use a one layer Diffpool model to reduce this graph to 2 clusters with new aggregated embeddings. As GNNs we use GraphSAGE for both the embedding and pooling models."
   ],
   "metadata": {
    "collapsed": false,
    "pycharm": {
     "name": "#%% md\n"
    }
   }
  },
  {
   "cell_type": "code",
   "execution_count": 17,
   "outputs": [
    {
     "data": {
      "text/plain": "<Figure size 432x288 with 1 Axes>",
      "image/png": "[encoded data removed]"
     },
     "metadata": {},
     "output_type": "display_data"
    },
    {
     "data": {
      "text/plain": "tensor([[ 2.5174,  0.4046],\n        [ 1.5878, -0.2628],\n        [-0.7163,  0.1374],\n        [-0.0331,  0.1163],\n        [ 0.6048, -1.4802]])"
     },
     "execution_count": 17,
     "metadata": {},
     "output_type": "execute_result"
    }
   ],
   "source": [
    "import torch as th\n",
    "import torch.nn as nn\n",
    "import matplotlib.pyplot as plt\n",
    "import networkx as nx\n",
    "import dgl\n",
    "\n",
    "nx_G = nx.Graph()\n",
    "nx_G.add_edges_from([(1, 2), (2, 3), (3, 4), (3, 5), (4, 5)])\n",
    "\n",
    "g = dgl.from_networkx(nx_G)\n",
    "X = th.randn(5, 2)\n",
    "\n",
    "nx.draw(dgl.to_networkx(g))\n",
    "plt.show()\n",
    "X"
   ],
   "metadata": {
    "collapsed": false,
    "pycharm": {
     "name": "#%%\n"
    }
   }
  },
  {
   "cell_type": "markdown",
   "source": [
    "### Compute cluster assignments & node embeddings\n",
    "\n",
    "The first step is to compute the cluster assignments and associated embeddings of the aggregated nodes. We simply apply the formulas provided in the paper:\n",
    "\n",
    "\\begin{align*}\n",
    "Z = \\mathrm{GNN}_{\\mathrm{embed}}(A, X) \\\\\n",
    "S = \\mathrm{softmax}(\\mathrm{GNN}_{\\mathrm{pool}}(A, X))\n",
    "\\end{align*}"
   ],
   "metadata": {
    "collapsed": false,
    "pycharm": {
     "name": "#%% md\n"
    }
   }
  },
  {
   "cell_type": "code",
   "execution_count": 18,
   "outputs": [
    {
     "data": {
      "text/plain": "(tensor([[-1.6809,  1.8390],\n         [-0.5681,  0.1459],\n         [ 0.4172, -0.2276],\n         [ 0.9159, -0.8786],\n         [ 0.9159, -0.8786]], grad_fn=<NativeBatchNormBackward0>),\n tensor([[0.0410, 0.9590],\n         [0.1792, 0.8208],\n         [0.7314, 0.2686],\n         [0.8624, 0.1376],\n         [0.8624, 0.1376]], grad_fn=<SoftmaxBackward0>))"
     },
     "execution_count": 18,
     "metadata": {},
     "output_type": "execute_result"
    }
   ],
   "source": [
    "from dgl.nn.pytorch import DenseSAGEConv\n",
    "from torch.nn.functional import softmax\n",
    "\n",
    "embed = DenseSAGEConv(2, 2, norm=nn.BatchNorm1d(2))\n",
    "pool = DenseSAGEConv(2, 2, norm=nn.BatchNorm1d(2))\n",
    "\n",
    "A = g.adj().to_dense()\n",
    "Z = embed(A, X)\n",
    "S = softmax(pool(A, X), dim=-1)\n",
    "\n",
    "Z, S"
   ],
   "metadata": {
    "collapsed": false,
    "pycharm": {
     "name": "#%%\n"
    }
   }
  },
  {
   "cell_type": "markdown",
   "source": [
    "### Construct the new representation graph\n",
    "\n",
    "In the second step we now have to construct the new graph. To do so, we first calculate the embeddings $X'$ for each cluster and then the new adjacency matrix $A'$ that connects the clusters.\n",
    "\n",
    "Again, we simply use the formulas from the paper in our example:\n",
    "\n",
    "\\begin{align*}\n",
    "X' = S^T Z \\\\\n",
    "A' = S^T A S\n",
    "\\end{align*}"
   ],
   "metadata": {
    "collapsed": false,
    "pycharm": {
     "name": "#%% md\n"
    }
   }
  },
  {
   "cell_type": "code",
   "execution_count": 16,
   "outputs": [
    {
     "data": {
      "text/plain": "(tensor([[ 1.7940, -1.8213],\n         [-1.7940,  1.8213]], grad_fn=<MmBackward0>),\n tensor([[2.3359, 1.7307],\n         [1.7307, 4.2027]], grad_fn=<MmBackward0>))"
     },
     "execution_count": 16,
     "metadata": {},
     "output_type": "execute_result"
    }
   ],
   "source": [
    "X_new = S.transpose(-1, -2) @ Z\n",
    "A_new = S.transpose(-1, -2) @ A @ S\n",
    "\n",
    "X_new, A_new"
   ],
   "metadata": {
    "collapsed": false,
    "pycharm": {
     "name": "#%%\n"
    }
   }
  },
  {
   "cell_type": "markdown",
   "source": [
    "Finally, we can take a look at the new graph. As already announced, we now have only two nodes that are connected by weighted edges and contain the embeddings from the nodes combined in them representatively in their new embeddings."
   ],
   "metadata": {
    "collapsed": false,
    "pycharm": {
     "name": "#%% md\n"
    }
   }
  },
  {
   "cell_type": "code",
   "execution_count": 8,
   "outputs": [
    {
     "data": {
      "text/plain": "<Figure size 432x288 with 1 Axes>",
      "image/png": "[encoded data removed]"
     },
     "metadata": {},
     "output_type": "display_data"
    }
   ],
   "source": [
    "g_new = nx.from_numpy_matrix(A_new.detach().numpy(), create_using=nx.Graph)\n",
    "g_new.remove_edges_from(nx.selfloop_edges(g_new))\n",
    "nx.draw(g_new)\n",
    "plt.show()"
   ],
   "metadata": {
    "collapsed": false,
    "pycharm": {
     "name": "#%%\n"
    }
   }
  },
  {
   "cell_type": "markdown",
   "source": [
    "## Diffpool in practice: Graph classification of the ENZYMES datasets"
   ],
   "metadata": {
    "collapsed": false,
    "pycharm": {
     "name": "#%% md\n"
    }
   }
  },
  {
   "cell_type": "code",
   "execution_count": 10,
   "outputs": [
    {
     "name": "stdout",
     "output_type": "stream",
     "text": [
      "Downloading /home/dstoll/.dgl/ENZYMES.zip from https://www.chrsmrrs.com/graphkerneldatasets/ENZYMES.zip...\n",
      "Extracting file to /home/dstoll/.dgl/ENZYMES\n",
      "++++++++++STATISTICS ABOUT THE DATASET\n",
      "dataset feature dimension is 18\n",
      "dataset label dimension is 6\n",
      "the max num node is 126\n",
      "number of graphs is 600\n"
     ]
    }
   ],
   "source": [
    "from dgl.data import tu\n",
    "\n",
    "dataset = tu.LegacyTUDataset(name=\"ENZYMES\")\n",
    "train_size = int(0.7 * len(dataset))\n",
    "test_size = int(0.1 * len(dataset))\n",
    "val_size = int(len(dataset) - train_size - test_size)\n",
    "\n",
    "batch_size = 20\n",
    "\n",
    "dataset_train, dataset_val, dataset_test = torch.utils.data.random_split(\n",
    "    dataset, (train_size, val_size, test_size))\n",
    "train_dataloader = dgl.dataloading.GraphDataLoader(dataset_train, batch_size=batch_size)\n",
    "val_dataloader = dgl.dataloading.GraphDataLoader(dataset_val, batch_size=batch_size)\n",
    "test_dataloader = dgl.dataloading.GraphDataLoader(dataset_test, batch_size=batch_size)\n",
    "\n",
    "input_dim, label_dim, max_num_node = dataset.statistics()\n",
    "print(\"++++++++++STATISTICS ABOUT THE DATASET\")\n",
    "print(\"dataset feature dimension is\", input_dim)\n",
    "print(\"dataset label dimension is\", label_dim)\n",
    "print(\"the max num node is\", max_num_node)\n",
    "print(\"number of graphs is\", len(dataset))"
   ],
   "metadata": {
    "collapsed": false,
    "pycharm": {
     "name": "#%%\n"
    }
   }
  },
  {
   "cell_type": "code",
   "execution_count": 12,
   "outputs": [
    {
     "name": "stdout",
     "output_type": "stream",
     "text": [
      "++++++++++MODEL STATISTICS++++++++\n",
      "model hidden dim is 64\n",
      "model embedding dim for graph instance embedding 64\n",
      "initial batched pool graph dim is 18\n"
     ]
    }
   ],
   "source": [
    "hidden_dim = 64\n",
    "embedding_dim = 64\n",
    "pool_ratio = 0.15\n",
    "\n",
    "assign_dim = int(max_num_node * pool_ratio)\n",
    "print(\"++++++++++MODEL STATISTICS++++++++\")\n",
    "print(\"model hidden dim is\", hidden_dim)\n",
    "print(\"model embedding dim for graph instance embedding\", embedding_dim)\n",
    "print(\"initial batched pool graph dim is\", assign_dim)\n",
    "activation = F.relu"
   ],
   "metadata": {
    "collapsed": false,
    "pycharm": {
     "name": "#%%\n"
    }
   }
  },
  {
   "cell_type": "code",
   "execution_count": 6,
   "outputs": [
    {
     "name": "stdout",
     "output_type": "stream",
     "text": [
      "Number of nodes for each graph element in the batch: tensor([73, 27, 30, 20, 11])\n",
      "Number of edges for each graph element in the batch: tensor([313, 141, 148,  96,  51])\n",
      "The original graphs in the minibatch:\n",
      "[Graph(num_nodes=73, num_edges=313,\n",
      "      ndata_schemes={'label': Scheme(shape=(), dtype=torch.int64), 'attr': Scheme(shape=(3,), dtype=torch.float32)}\n",
      "      edata_schemes={}), Graph(num_nodes=27, num_edges=141,\n",
      "      ndata_schemes={'label': Scheme(shape=(), dtype=torch.int64), 'attr': Scheme(shape=(3,), dtype=torch.float32)}\n",
      "      edata_schemes={}), Graph(num_nodes=30, num_edges=148,\n",
      "      ndata_schemes={'label': Scheme(shape=(), dtype=torch.int64), 'attr': Scheme(shape=(3,), dtype=torch.float32)}\n",
      "      edata_schemes={}), Graph(num_nodes=20, num_edges=96,\n",
      "      ndata_schemes={'label': Scheme(shape=(), dtype=torch.int64), 'attr': Scheme(shape=(3,), dtype=torch.float32)}\n",
      "      edata_schemes={}), Graph(num_nodes=11, num_edges=51,\n",
      "      ndata_schemes={'label': Scheme(shape=(), dtype=torch.int64), 'attr': Scheme(shape=(3,), dtype=torch.float32)}\n",
      "      edata_schemes={})]\n"
     ]
    }
   ],
   "source": [],
   "metadata": {
    "collapsed": false,
    "pycharm": {
     "name": "#%%\n"
    }
   }
  },
  {
   "cell_type": "code",
   "execution_count": 7,
   "outputs": [],
   "source": [
    "from dgl.nn import GraphConv\n",
    "\n",
    "class GCN(nn.Module):\n",
    "    def __init__(self, in_feats, h_feats, num_classes):\n",
    "        super(GCN, self).__init__()\n",
    "        self.conv1 = GraphConv(in_feats, h_feats)\n",
    "        self.conv2 = GraphConv(h_feats, num_classes)\n",
    "\n",
    "    def forward(self, g, in_feat):\n",
    "        h = self.conv1(g, in_feat)\n",
    "        h = F.relu(h)\n",
    "        h = self.conv2(g, h)\n",
    "        g.ndata['h'] = h\n",
    "        return dgl.mean_nodes(g, 'h')"
   ],
   "metadata": {
    "collapsed": false,
    "pycharm": {
     "name": "#%%\n"
    }
   }
  },
  {
   "cell_type": "code",
   "execution_count": 9,
   "outputs": [
    {
     "name": "stdout",
     "output_type": "stream",
     "text": [
      "Test accuracy: 0.09417040358744394\n"
     ]
    }
   ],
   "source": [
    "# Create the model with given dimensions\n",
    "model = GCN(dataset.dim_nfeats, 16, dataset.gclasses)\n",
    "optimizer = torch.optim.Adam(model.parameters(), lr=0.01)\n",
    "\n",
    "for epoch in range(20):\n",
    "    for batched_graph, labels in train_dataloader:\n",
    "        pred = model(batched_graph, batched_graph.ndata['attr'].float())\n",
    "        loss = F.cross_entropy(pred, labels)\n",
    "        optimizer.zero_grad()\n",
    "        loss.backward()\n",
    "        optimizer.step()\n",
    "\n",
    "num_correct = 0\n",
    "num_tests = 0\n",
    "for batched_graph, labels in test_dataloader:\n",
    "    pred = model(batched_graph, batched_graph.ndata['attr'].float())\n",
    "    num_correct += (pred.argmax(1) == labels).sum().item()\n",
    "    num_tests += len(labels)\n",
    "\n",
    "print('Test accuracy:', num_correct / num_tests)"
   ],
   "metadata": {
    "collapsed": false,
    "pycharm": {
     "name": "#%%\n"
    }
   }
  },
  {
   "cell_type": "code",
   "execution_count": null,
   "outputs": [],
   "source": [],
   "metadata": {
    "collapsed": false,
    "pycharm": {
     "name": "#%%\n"
    }
   }
  }
 ],
 "metadata": {
  "kernelspec": {
   "display_name": "Python 3",
   "language": "python",
   "name": "python3"
  },
  "language_info": {
   "codemirror_mode": {
    "name": "ipython",
    "version": 2
   },
   "file_extension": ".py",
   "mimetype": "text/x-python",
   "name": "python",
   "nbconvert_exporter": "python",
   "pygments_lexer": "ipython2",
   "version": "2.7.6"
  }
 },
 "nbformat": 4,
 "nbformat_minor": 0
}